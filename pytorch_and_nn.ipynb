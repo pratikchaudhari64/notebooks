{
  "nbformat": 4,
  "nbformat_minor": 0,
  "metadata": {
    "colab": {
      "provenance": [],
      "authorship_tag": "ABX9TyNiZQkVZnyWEJ94Hj7qiAZw",
      "include_colab_link": true
    },
    "kernelspec": {
      "name": "python3",
      "display_name": "Python 3"
    },
    "language_info": {
      "name": "python"
    }
  },
  "cells": [
    {
      "cell_type": "markdown",
      "metadata": {
        "id": "view-in-github",
        "colab_type": "text"
      },
      "source": [
        "<a href=\"https://colab.research.google.com/github/pratikchaudhari64/notebooks/blob/main/pytorch_and_nn.ipynb\" target=\"_parent\"><img src=\"https://colab.research.google.com/assets/colab-badge.svg\" alt=\"Open In Colab\"/></a>"
      ]
    },
    {
      "cell_type": "code",
      "execution_count": 1,
      "metadata": {
        "id": "gOEavnr49phc"
      },
      "outputs": [],
      "source": [
        "import torch\n",
        "from torch import nn\n",
        "from torch.utils.data import DataLoader\n",
        "from torchvision import datasets\n",
        "from torchvision.transforms import ToTensor\n"
      ]
    },
    {
      "cell_type": "code",
      "source": [
        "# Download training data from open datasets.\n",
        "training_data = datasets.FashionMNIST(\n",
        "    root=\"data\",\n",
        "    train=True,\n",
        "    download=True,\n",
        "    transform=ToTensor(),\n",
        ")\n",
        "\n",
        "# Download test data from open datasets.\n",
        "test_data = datasets.FashionMNIST(\n",
        "    root=\"data\",\n",
        "    train=False,\n",
        "    download=True,\n",
        "    transform=ToTensor(),\n",
        ")\n"
      ],
      "metadata": {
        "colab": {
          "base_uri": "https://localhost:8080/"
        },
        "id": "r2xineFx-WRr",
        "outputId": "fca40b0b-02cd-4417-bae1-f93cb895e380"
      },
      "execution_count": 2,
      "outputs": [
        {
          "output_type": "stream",
          "name": "stderr",
          "text": [
            "100%|██████████| 26.4M/26.4M [00:01<00:00, 17.5MB/s]\n",
            "100%|██████████| 29.5k/29.5k [00:00<00:00, 308kB/s]\n",
            "100%|██████████| 4.42M/4.42M [00:00<00:00, 5.59MB/s]\n",
            "100%|██████████| 5.15k/5.15k [00:00<00:00, 8.70MB/s]\n"
          ]
        }
      ]
    },
    {
      "cell_type": "code",
      "source": [
        "input_image = torch.rand(3,28,28)\n",
        "# print(input_image.size())\n",
        "input_image"
      ],
      "metadata": {
        "colab": {
          "base_uri": "https://localhost:8080/"
        },
        "id": "kxDHrYnY-fer",
        "outputId": "de353ff5-12e3-46c6-d96a-e562bf5ac405"
      },
      "execution_count": 8,
      "outputs": [
        {
          "output_type": "execute_result",
          "data": {
            "text/plain": [
              "tensor([[[0.3719, 0.9587, 0.4808,  ..., 0.6046, 0.5051, 0.4253],\n",
              "         [0.1208, 0.0835, 0.9386,  ..., 0.0025, 0.1693, 0.3567],\n",
              "         [0.6199, 0.4819, 0.9606,  ..., 0.5264, 0.8035, 0.7195],\n",
              "         ...,\n",
              "         [0.0412, 0.6606, 0.0607,  ..., 0.4508, 0.1371, 0.6911],\n",
              "         [0.9271, 0.9387, 0.9283,  ..., 0.2669, 0.4915, 0.8297],\n",
              "         [0.6763, 0.8456, 0.2497,  ..., 0.5438, 0.1006, 0.2780]],\n",
              "\n",
              "        [[0.6630, 0.7683, 0.7723,  ..., 0.1316, 0.3116, 0.5111],\n",
              "         [0.5591, 0.4893, 0.1073,  ..., 0.7623, 0.6717, 0.3138],\n",
              "         [0.7144, 0.6838, 0.3237,  ..., 0.1913, 0.3808, 0.8168],\n",
              "         ...,\n",
              "         [0.5154, 0.6553, 0.7767,  ..., 0.8166, 0.7574, 0.1195],\n",
              "         [0.2924, 0.9452, 0.1312,  ..., 0.7280, 0.7580, 0.9035],\n",
              "         [0.0140, 0.2385, 0.2147,  ..., 0.1624, 0.7470, 0.1926]],\n",
              "\n",
              "        [[0.7165, 0.0475, 0.0730,  ..., 0.2792, 0.9303, 0.7659],\n",
              "         [0.5106, 0.2563, 0.4318,  ..., 0.7198, 0.6428, 0.2937],\n",
              "         [0.1503, 0.5338, 0.1091,  ..., 0.5814, 0.5106, 0.8554],\n",
              "         ...,\n",
              "         [0.6187, 0.4577, 0.0184,  ..., 0.7274, 0.7183, 0.9098],\n",
              "         [0.9200, 0.3681, 0.7325,  ..., 0.7495, 0.1794, 0.1693],\n",
              "         [0.0951, 0.8979, 0.9384,  ..., 0.6617, 0.1683, 0.3508]]])"
            ]
          },
          "metadata": {},
          "execution_count": 8
        }
      ]
    },
    {
      "cell_type": "code",
      "source": [
        "flatten = nn.Flatten()\n",
        "flat_image = flatten(input_image)\n",
        "print(flat_image.size())"
      ],
      "metadata": {
        "id": "mOOuv1nk_GTP"
      },
      "execution_count": null,
      "outputs": []
    }
  ]
}