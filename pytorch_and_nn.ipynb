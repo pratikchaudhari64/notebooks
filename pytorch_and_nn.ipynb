{
  "nbformat": 4,
  "nbformat_minor": 0,
  "metadata": {
    "colab": {
      "provenance": [],
      "toc_visible": true,
      "authorship_tag": "ABX9TyOECdnrbKAEWXR4uYhfDVvY",
      "include_colab_link": true
    },
    "kernelspec": {
      "name": "python3",
      "display_name": "Python 3"
    },
    "language_info": {
      "name": "python"
    }
  },
  "cells": [
    {
      "cell_type": "markdown",
      "metadata": {
        "id": "view-in-github",
        "colab_type": "text"
      },
      "source": [
        "<a href=\"https://colab.research.google.com/github/pratikchaudhari64/notebooks/blob/main/pytorch_and_nn.ipynb\" target=\"_parent\"><img src=\"https://colab.research.google.com/assets/colab-badge.svg\" alt=\"Open In Colab\"/></a>"
      ]
    },
    {
      "cell_type": "code",
      "execution_count": 168,
      "metadata": {
        "id": "gOEavnr49phc"
      },
      "outputs": [],
      "source": [
        "import torch\n",
        "from torch import nn\n",
        "from torch.utils.data import DataLoader\n",
        "from torchvision import datasets\n",
        "from torchvision.transforms import ToTensor\n",
        "import matplotlib.pyplot as plt"
      ]
    },
    {
      "cell_type": "code",
      "source": [
        "# Download training data from open datasets.\n",
        "training_data = datasets.FashionMNIST(\n",
        "    root=\"data\",\n",
        "    train=True,\n",
        "    download=True,\n",
        "    transform=ToTensor(),\n",
        ")\n",
        "\n",
        "# Download test data from open datasets.\n",
        "test_data = datasets.FashionMNIST(\n",
        "    root=\"data\",\n",
        "    train=False,\n",
        "    download=True,\n",
        "    transform=ToTensor(),\n",
        ")\n"
      ],
      "metadata": {
        "id": "r2xineFx-WRr"
      },
      "execution_count": 169,
      "outputs": []
    },
    {
      "cell_type": "code",
      "source": [
        "# Display the image ith image out of minibatch\n",
        "i = 1\n",
        "plt.imshow(train_minibatch[i])\n",
        "plt.show()\n"
      ],
      "metadata": {
        "id": "t4E3rKsIEpD0",
        "outputId": "50fba310-8b0c-4c00-fdd1-8bf2060834bb",
        "colab": {
          "base_uri": "https://localhost:8080/",
          "height": 430
        }
      },
      "execution_count": 174,
      "outputs": [
        {
          "output_type": "display_data",
          "data": {
            "text/plain": [
              "<Figure size 640x480 with 1 Axes>"
            ],
            "image/png": "[encoded data removed]"
          },
          "metadata": {}
        }
      ]
    },
    {
      "cell_type": "markdown",
      "source": [
        "## Basic forward pass.\n",
        " - **Input Layer**: training data had original tensor of (3,28,28) where the 28x28 matrix for each photo already has RGB encoded numbers. Then, flattened it out for each image to have 28*28 features (kinda,..) and then input is tensor (3,784)\n",
        " - **Hidden Layers**: layer1+relu; layer2+relu\n",
        " - **Output Layers**: (3,10) form tensor gets created first by introducing new linear layer (512, 10). Then, perform softmax to scale such that sum = 1(form probabilities), then finally test probability of your desired class (10 total classes returned with probability for each) against what it actually was"
      ],
      "metadata": {
        "id": "SJdro1CpAmYd"
      }
    },
    {
      "cell_type": "code",
      "source": [
        "minibatch_size = 3\n",
        "\n",
        "train_minibatch = training_data.data[:minibatch_size]\n",
        "\n",
        "flattened_view = train_minibatch.view(3, 784).type(torch.float32)\n",
        "print(f\"final input: {flattened_view.size()}\")                      # input photos get converted to numerical represenatation. One way to think\n",
        "                                                                    # to think is that each image is now represented as 784 feature columns (size: 3x784)\n",
        "\n",
        "\n",
        "\n",
        "layer1 = nn.Linear(in_features=28*28, out_features=512)\n",
        "hidden1 = layer1(flattened_view)\n",
        "hidden1_relu = nn.ReLU()(hidden1)\n",
        "print(f\"hidden1_relu: {hidden1_relu.size()}\")                       # First mixing of weights along\n",
        "                                                                    # with a ReLU (and oher things like batchnorm/dropouts etc.)\n",
        "\n",
        "layer_2 = nn.Linear(512, 512)\n",
        "hidden_2 = layer_2(hidden1_relu)\n",
        "hidden_2_relu = nn.ReLU()(hidden_2)\n",
        "print(f\"hidden2_relu: {hidden_2_relu.size()}\")                      # Second mixing of weights along\n",
        "                                                                    # with a ReLU (and oher things like batchnorm/dropouts etc.)\n",
        "\n",
        "\n",
        "layer_3 = nn.Linear(512, 10)\n",
        "output = layer_3(hidden_2_relu)\n",
        "print(f\"output: {output.size()}\")                                   # Finally converted to give pre-probabilities (think of these as counts)\n",
        "                                                                    # for each class (which in turn we want to maximize)\n",
        "\n",
        "\n",
        "softmax = nn.Softmax(dim=1)\n",
        "probabilities = softmax(output)\n",
        "print(f\"probabilities: {probabilities.size()}\")                     # counts found in previous example now got scaled to resemble probabilities\n",
        "probabilities[0]\n",
        "\n",
        "\n",
        "\n"
      ],
      "metadata": {
        "id": "uuTiUwC7LUsz",
        "outputId": "bb1f8b51-4f77-457d-f960-eadd8607eb3e",
        "colab": {
          "base_uri": "https://localhost:8080/"
        }
      },
      "execution_count": 220,
      "outputs": [
        {
          "output_type": "stream",
          "name": "stdout",
          "text": [
            "final input: torch.Size([3, 784])\n",
            "hidden1_relu: torch.Size([3, 512])\n",
            "hidden2_relu: torch.Size([3, 512])\n",
            "output: torch.Size([3, 10])\n",
            "probabilities: torch.Size([3, 10])\n"
          ]
        },
        {
          "output_type": "execute_result",
          "data": {
            "text/plain": [
              "tensor([2.4122e-02, 3.6318e-04, 4.2993e-12, 2.3154e-10, 5.6651e-22, 1.6596e-14,\n",
              "        9.6510e-01, 3.2184e-03, 7.1926e-03, 4.2734e-07],\n",
              "       grad_fn=<SelectBackward0>)"
            ]
          },
          "metadata": {},
          "execution_count": 220
        }
      ]
    },
    {
      "cell_type": "code",
      "source": [
        "lay = nn.Linear(in_features=784, out_features=20)\n",
        "print(lay.weight.size())\n",
        "print(lay.bias.size())\n",
        "\n",
        "\n",
        "training_data.targets"
      ],
      "metadata": {
        "id": "MnSHz9d5RAyY",
        "outputId": "37257e96-6698-4424-807a-331f971fd0c9",
        "colab": {
          "base_uri": "https://localhost:8080/"
        }
      },
      "execution_count": 216,
      "outputs": [
        {
          "output_type": "stream",
          "name": "stdout",
          "text": [
            "torch.Size([20, 784])\n",
            "torch.Size([20])\n"
          ]
        },
        {
          "output_type": "execute_result",
          "data": {
            "text/plain": [
              "torch.Size([60000])"
            ]
          },
          "metadata": {},
          "execution_count": 216
        }
      ]
    }
  ]
}